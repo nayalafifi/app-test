{
  "cells": [
    {
      "cell_type": "markdown",
      "metadata": {
        "id": "view-in-github",
        "colab_type": "text"
      },
      "source": [
        "<a href=\"https://colab.research.google.com/github/nayalafifi/app-test/blob/main/visualization.ipynb\" target=\"_parent\"><img src=\"https://colab.research.google.com/assets/colab-badge.svg\" alt=\"Open In Colab\"/></a>"
      ]
    },
    {
      "cell_type": "code",
      "execution_count": null,
      "metadata": {
        "id": "r8V0QwdkeUvO",
        "colab": {
          "base_uri": "https://localhost:8080/"
        },
        "outputId": "a6f9bcf9-2018-41b2-8ed8-a2c18f496af5"
      },
      "outputs": [
        {
          "output_type": "stream",
          "name": "stdout",
          "text": [
            "Requirement already satisfied: plotly in /usr/local/lib/python3.10/dist-packages (5.15.0)\n",
            "Requirement already satisfied: tenacity>=6.2.0 in /usr/local/lib/python3.10/dist-packages (from plotly) (8.2.3)\n",
            "Requirement already satisfied: packaging in /usr/local/lib/python3.10/dist-packages (from plotly) (23.2)\n"
          ]
        }
      ],
      "source": [
        "!pip install plotly\n"
      ]
    },
    {
      "cell_type": "code",
      "source": [
        "!pip list | grep plotly\n"
      ],
      "metadata": {
        "colab": {
          "base_uri": "https://localhost:8080/"
        },
        "id": "ePLK30EPxiSO",
        "outputId": "05557577-2637-474c-fbf9-7e258569303c"
      },
      "execution_count": null,
      "outputs": [
        {
          "output_type": "stream",
          "name": "stdout",
          "text": [
            "plotly                           5.15.0\n"
          ]
        }
      ]
    },
    {
      "cell_type": "markdown",
      "metadata": {
        "id": "QuaxjhbtejdO"
      },
      "source": [
        "\n",
        "\n",
        "<center><img src=\"data:image/png;base64,iVBORw0KGgoAAAANSUhEUgAAAOEAAADhCAMAAAAJbSJIAAAAn1BMVEVXBoz///9UAIqPabBRAIhGAIFnIJfayuWhh7tVAItKAIRNAIbSv+BvMJ348vqhfr3r4fG1msvGttVxO52MbK307fh7S6P17/jk2Oz//P/ez+iBU6fi1erWxuKvksbn3e7DrNR4RKG7o8+JXqy6oc7BqtOghrrKvNldE5COZq9/VaWlhL+Yc7eokMBmJ5arjMRvNZs0AHmHZam1osmRZrKsd9A6AAAISElEQVR4nO2dbWOaOhTHQ5roklhEOx9QW22tq65O7Xa//2e7CQESUAq6WyXc83+zIoTxMw/n5JAcEQKBQCAQCAQCgUAgEAgEAoFAIBAIBAKBQF8thq8pdgPAdeuaQtdHJN+8a2pLmk54B4RACIRACIRACIRACIRACIRACITNI5w3nTBoNZ2wS8fNJhwI0W024Uaw85upS4QditD5zdQhwhHGCIlegwmH6lHxz4S3amW6Q/jOVWHGfH24nzaCcGL+XFBdmmqj7xMeNIHwZ4o44/HrB76IjreCV+yRtSb0SdLrAoHj0uKXOm5ThB8aQLjgVDfFEcNp6a1CR2pYHbhP2MJir/4Nd+YpiRphntUxfXSecMERZuqPqUgLM972Qn2s6V0m9FXT5JPETkTCdOHN1xqYfHedcKtA+B/vkaZFGe94jzzuk1hbxKDEatSXsK3AmAhCM8pg2pF2MXlrHRM+u0rorxWYNHpb0wllE32hhjci7PGRo4RLBYbX4di0UdqTgNZ91FxxRRM3zjXCWYQiq3CZPqDYyPlTWoOIfUhrsad4V3KnuhJGYIz4QcokUebcrBwh9EUORhSRoZuEI6JYpNPWS3shnUkPIL0Hvxt4g6k0I6VxjZoSagshvexd6o92vW5Ci+ky8Pw9V8/O+24S7iMYPvNF3C6Z8Odxg2X8MPHCntCnRFkItaaEGwUju+EscWdkFcZjDuayA65Y3CW1W+cg4c+IkIXthJDPB9qXEa3Amx/SIac8vFhTwgPLEsqB9DX6U0xDaQONzeClE4yaEi6jOsT+OCaU84hnHAGqwLexGRiV3qqmhPqx+DiMRxo5Yiovjsh5fZdb96oQXKwp4UuEIa1FPLzIURUzhOW0vmf5bWoscpVwHhHioZ5hqNoMpP3gK+nN2Qti+Wv5rWpK6B2iwYQGOmCh61C5oPfYvtN9hTvVlbAT1R1ZxlE2PpHTRDl5WtidEFcKmdaVMI7NyClvR7VLOdI8YBZanqnshNVCUbUl9NfR7EIEXl+aP2nY3+k/3qNVhWrC7zShN9hFc2A08NqM4Jb3+NH37sx8n4hqwcQaE3rhlso5FMZjz19SOvbEzEtDNoROq8WDa03oeeMloYQoT/uxtfG60g/Xrg7nw0l5aRcI5Uy40x2u6WEmB1d/4L1+UEr5evNatf4cIFQK/UEcTvPn8/HAD88r7gDhX6r+hIP7B1v3i+YREsyMcBVX1D1Cu7R4aR6hyGwnbGAdjn5/t/W7mq/mEuHfyg3CVU/rqeIKE/cIp1xEoo1dQRvH8xktD8s4SqhjpUjNgRtK+KbjUfj5fEBHCOPQd8XVFy4SBrof6hVfjST0oxemiJ/rsblD6OnECBXXeTlJeJ8EiBtLOI0ek5QsnXGZ8F0NNax1gTl0hfBPFDstW1jiMmFfGcSLzKErhJHJr7ig1E3CQBHyc4NQLhH66gUUrR7odo8wWmTKL5gdOkOoTD4rW2fpNuFSEl6wgdQhwndy2ezQHcIngcg/jSZccSSeGk3YpuUrSd0mDGiFRXpOE44EK10r6zahNPnikrmTO4RqGdhFgO4QLknFHZXOEm75tuGErx9/Gk54SeIWxwgvFRACIRACIRACIRACIRAC4WnC75P29TSZ4vJH+s8R6TV1/SoEgUAgEAj0P1G8/aXkBC68LHuq6LLi4l+u5FfJRO5znJxg9lWY5B+S4FPX5X+aq+jzK4hsQj/SgmZP0LH+PFSrScUqvsqfiywimSZnBkjt8o6POtm78U580VP+i/x6kbtkYrPJ/ufpAllFiM3qmSc7zQBiJs+ASuWWJqh5zBPGn/duSejtMo5/hhAJ867JzjNgrd+LcmbUnDDgdi/JEiLaTi6zGyBG6avgCLzmhF7ffqwcIV6nl01NXZtMCnuddKjmhHZWxDwhEu/HdZ3m3fXGOpdS7Qm9g1U9OUJsFiPu48dkPN2K/6AL1p9wYGxBnhCZV/dJik+eDjOvSQap2hNaw8gRoUoqFEt3WNM1B0m7dYDQJNE9JsQm3/Mwmxx5mDRuFwiTHnWCUGd+jjTnWKUcylSpkhOEo9g9PkFoGYd3YYYZn6V21AnC5OFOERrnzWcmz7yViafWhCYHi/Y8TxFaiREXaRJIG6bWhAuzJFaPI6cIzR6EMLGO4frUN1BHws5HuoEiyk5+mvA4UfA+k1ew1oRWHucJLSK0rLzWOINSb0IuzG60Hi8izCeey56tOSHipiv+FAWEiDzbgL3MfLj2hNYkMFwXESKaOm9qW3c28FJ7Qmx2vo4/igixMNtjh7n3gbUntJvgr+QHjvKElruWj14ZwnYB4Y8bvOXOECJ+nOv4iBDTxDt4PoJPdtKMs/0z3bvw7eaE6DjD4xEhSj3S4RFh4pv72cho+p1sb0+o8lteTogPSalMDzV+wsP1o955QkQOXlbnEJpdiX27maZmKDwKmX+9jgjt0OjZhOoXBWJZIR+TyWbG8wW+XseEiPYvJzRb2gYsMQzE7CC6gbE4RZjrimcRYpMuebSknBAiqPXbM63rN9JThIjs7E1NZxFmMp4Erz82P3rWxoXHGzTSk4RI2BP/8whxfqD6vDlcQScJEX357LE+I0Sf/Ire0y2qsICQWbvtzyQszszTuQlgASHCKJ0On0vIxOlkin16gxfAqJAQidS9PpcQMXpiF3TYvRFgIaHpT2cTygt2i+wWU3+1voEl1MLTt36kff4R+Cr6/G139N2LhS7y9lBULYyyu/5cU4az/pLxG1WgEuZax99xfOLUeFl8KhEjXAjWarWw4JzckO9LxdQaE9ZUOhAIBAKBQCAQCAQCgUAgEAgEAoFAIBCotvoXi0WoBDiK20AAAAAASUVORK5CYII=\" width=150 height=200/></center>\n",
        "\n",
        "___\n",
        "\n",
        "## <center>Data Science 4 Everyone 🚀</center>\n",
        "\n",
        "<center><img src=\"data:image/jpeg;base64,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\" width=75 height=75/></center>\n",
        "\n",
        "### <center>Session: Streamlit Visualization </center>\n",
        "\n",
        "<center>Course provided by:</center>\n",
        "\n",
        "[<center>Professor Gaëtan Brison</center>](https://github.com/gaetanbrison)\n",
        "___"
      ]
    },
    {
      "cell_type": "code",
      "execution_count": null,
      "metadata": {
        "colab": {
          "base_uri": "https://localhost:8080/"
        },
        "id": "oeQNwdb2emQp",
        "outputId": "3decf358-ac8b-4a45-da1d-7e773516a2de"
      },
      "outputs": [
        {
          "output_type": "stream",
          "name": "stdout",
          "text": [
            "35.186.163.228"
          ]
        }
      ],
      "source": [
        "!curl ipecho.net/plain"
      ]
    },
    {
      "cell_type": "code",
      "execution_count": null,
      "metadata": {
        "colab": {
          "base_uri": "https://localhost:8080/"
        },
        "id": "dXq2F2g5eoOH",
        "outputId": "d37ba7c4-7365-4173-cf44-596fdd37caf5"
      },
      "outputs": [
        {
          "output_type": "stream",
          "name": "stdout",
          "text": [
            "\u001b[2K     \u001b[90m━━━━━━━━━━━━━━━━━━━━━━━━━━━━━━━━━━━━━━━━\u001b[0m \u001b[32m8.4/8.4 MB\u001b[0m \u001b[31m49.1 MB/s\u001b[0m eta \u001b[36m0:00:00\u001b[0m\n",
            "\u001b[2K     \u001b[90m━━━━━━━━━━━━━━━━━━━━━━━━━━━━━━━━━━━━━━━━\u001b[0m \u001b[32m195.4/195.4 kB\u001b[0m \u001b[31m19.2 MB/s\u001b[0m eta \u001b[36m0:00:00\u001b[0m\n",
            "\u001b[2K     \u001b[90m━━━━━━━━━━━━━━━━━━━━━━━━━━━━━━━━━━━━━━━━\u001b[0m \u001b[32m4.8/4.8 MB\u001b[0m \u001b[31m76.7 MB/s\u001b[0m eta \u001b[36m0:00:00\u001b[0m\n",
            "\u001b[2K     \u001b[90m━━━━━━━━━━━━━━━━━━━━━━━━━━━━━━━━━━━━━━━━\u001b[0m \u001b[32m83.0/83.0 kB\u001b[0m \u001b[31m8.0 MB/s\u001b[0m eta \u001b[36m0:00:00\u001b[0m\n",
            "\u001b[2K     \u001b[90m━━━━━━━━━━━━━━━━━━━━━━━━━━━━━━━━━━━━━━━━\u001b[0m \u001b[32m62.7/62.7 kB\u001b[0m \u001b[31m6.8 MB/s\u001b[0m eta \u001b[36m0:00:00\u001b[0m\n",
            "\u001b[?25hCollecting sweetviz\n",
            "  Downloading sweetviz-2.3.1-py3-none-any.whl (15.1 MB)\n",
            "\u001b[2K     \u001b[90m━━━━━━━━━━━━━━━━━━━━━━━━━━━━━━━━━━━━━━━━\u001b[0m \u001b[32m15.1/15.1 MB\u001b[0m \u001b[31m55.1 MB/s\u001b[0m eta \u001b[36m0:00:00\u001b[0m\n",
            "\u001b[?25hRequirement already satisfied: pandas!=1.0.0,!=1.0.1,!=1.0.2,>=0.25.3 in /usr/local/lib/python3.10/dist-packages (from sweetviz) (1.5.3)\n",
            "Requirement already satisfied: numpy>=1.16.0 in /usr/local/lib/python3.10/dist-packages (from sweetviz) (1.25.2)\n",
            "Requirement already satisfied: matplotlib>=3.1.3 in /usr/local/lib/python3.10/dist-packages (from sweetviz) (3.7.1)\n",
            "Requirement already satisfied: tqdm>=4.43.0 in /usr/local/lib/python3.10/dist-packages (from sweetviz) (4.66.2)\n",
            "Requirement already satisfied: scipy>=1.3.2 in /usr/local/lib/python3.10/dist-packages (from sweetviz) (1.11.4)\n",
            "Requirement already satisfied: jinja2>=2.11.1 in /usr/local/lib/python3.10/dist-packages (from sweetviz) (3.1.3)\n",
            "Requirement already satisfied: importlib-resources>=1.2.0 in /usr/local/lib/python3.10/dist-packages (from sweetviz) (6.1.1)\n",
            "Requirement already satisfied: MarkupSafe>=2.0 in /usr/local/lib/python3.10/dist-packages (from jinja2>=2.11.1->sweetviz) (2.1.5)\n",
            "Requirement already satisfied: contourpy>=1.0.1 in /usr/local/lib/python3.10/dist-packages (from matplotlib>=3.1.3->sweetviz) (1.2.0)\n",
            "Requirement already satisfied: cycler>=0.10 in /usr/local/lib/python3.10/dist-packages (from matplotlib>=3.1.3->sweetviz) (0.12.1)\n",
            "Requirement already satisfied: fonttools>=4.22.0 in /usr/local/lib/python3.10/dist-packages (from matplotlib>=3.1.3->sweetviz) (4.48.1)\n",
            "Requirement already satisfied: kiwisolver>=1.0.1 in /usr/local/lib/python3.10/dist-packages (from matplotlib>=3.1.3->sweetviz) (1.4.5)\n",
            "Requirement already satisfied: packaging>=20.0 in /usr/local/lib/python3.10/dist-packages (from matplotlib>=3.1.3->sweetviz) (23.2)\n",
            "Requirement already satisfied: pillow>=6.2.0 in /usr/local/lib/python3.10/dist-packages (from matplotlib>=3.1.3->sweetviz) (9.4.0)\n",
            "Requirement already satisfied: pyparsing>=2.3.1 in /usr/local/lib/python3.10/dist-packages (from matplotlib>=3.1.3->sweetviz) (3.1.1)\n",
            "Requirement already satisfied: python-dateutil>=2.7 in /usr/local/lib/python3.10/dist-packages (from matplotlib>=3.1.3->sweetviz) (2.8.2)\n",
            "Requirement already satisfied: pytz>=2020.1 in /usr/local/lib/python3.10/dist-packages (from pandas!=1.0.0,!=1.0.1,!=1.0.2,>=0.25.3->sweetviz) (2023.4)\n",
            "Requirement already satisfied: six>=1.5 in /usr/local/lib/python3.10/dist-packages (from python-dateutil>=2.7->matplotlib>=3.1.3->sweetviz) (1.16.0)\n",
            "Installing collected packages: sweetviz\n",
            "Successfully installed sweetviz-2.3.1\n"
          ]
        }
      ],
      "source": [
        "!pip install streamlit --quiet\n",
        "!pip install pyngrok --quiet\n",
        "!pip install htbuilder --quiet\n",
        "!pip install sweetviz"
      ]
    },
    {
      "cell_type": "code",
      "execution_count": null,
      "metadata": {
        "id": "CUU93tGjanV0"
      },
      "outputs": [],
      "source": [
        "import pandas as pd\n",
        "df = pd.read_csv(\"wine_quality_red.csv\")"
      ]
    },
    {
      "cell_type": "code",
      "execution_count": null,
      "metadata": {
        "id": "566WAFTpa2SP",
        "colab": {
          "base_uri": "https://localhost:8080/",
          "height": 161
        },
        "outputId": "86a39bc9-d9a6-4d95-9ade-91ad99f37e14"
      },
      "outputs": [
        {
          "output_type": "execute_result",
          "data": {
            "text/plain": [
              "   fixed acidity  volatile acidity  citric acid  residual sugar  chlorides  \\\n",
              "0            7.4              0.70         0.00             1.9      0.076   \n",
              "1            7.8              0.88         0.00             2.6      0.098   \n",
              "2            7.8              0.76         0.04             2.3      0.092   \n",
              "\n",
              "   free sulfur dioxide  total sulfur dioxide  density    pH  sulphates  \\\n",
              "0                 11.0                  34.0   0.9978  3.51       0.56   \n",
              "1                 25.0                  67.0   0.9968  3.20       0.68   \n",
              "2                 15.0                  54.0   0.9970  3.26       0.65   \n",
              "\n",
              "   alcohol  quality  \n",
              "0      9.4        5  \n",
              "1      9.8        5  \n",
              "2      9.8        5  "
            ],
            "text/html": [
              "\n",
              "  <div id=\"df-5bafde70-8326-42e8-bd42-ec5e8ce94ff8\" class=\"colab-df-container\">\n",
              "    <div>\n",
              "<style scoped>\n",
              "    .dataframe tbody tr th:only-of-type {\n",
              "        vertical-align: middle;\n",
              "    }\n",
              "\n",
              "    .dataframe tbody tr th {\n",
              "        vertical-align: top;\n",
              "    }\n",
              "\n",
              "    .dataframe thead th {\n",
              "        text-align: right;\n",
              "    }\n",
              "</style>\n",
              "<table border=\"1\" class=\"dataframe\">\n",
              "  <thead>\n",
              "    <tr style=\"text-align: right;\">\n",
              "      <th></th>\n",
              "      <th>fixed acidity</th>\n",
              "      <th>volatile acidity</th>\n",
              "      <th>citric acid</th>\n",
              "      <th>residual sugar</th>\n",
              "      <th>chlorides</th>\n",
              "      <th>free sulfur dioxide</th>\n",
              "      <th>total sulfur dioxide</th>\n",
              "      <th>density</th>\n",
              "      <th>pH</th>\n",
              "      <th>sulphates</th>\n",
              "      <th>alcohol</th>\n",
              "      <th>quality</th>\n",
              "    </tr>\n",
              "  </thead>\n",
              "  <tbody>\n",
              "    <tr>\n",
              "      <th>0</th>\n",
              "      <td>7.4</td>\n",
              "      <td>0.70</td>\n",
              "      <td>0.00</td>\n",
              "      <td>1.9</td>\n",
              "      <td>0.076</td>\n",
              "      <td>11.0</td>\n",
              "      <td>34.0</td>\n",
              "      <td>0.9978</td>\n",
              "      <td>3.51</td>\n",
              "      <td>0.56</td>\n",
              "      <td>9.4</td>\n",
              "      <td>5</td>\n",
              "    </tr>\n",
              "    <tr>\n",
              "      <th>1</th>\n",
              "      <td>7.8</td>\n",
              "      <td>0.88</td>\n",
              "      <td>0.00</td>\n",
              "      <td>2.6</td>\n",
              "      <td>0.098</td>\n",
              "      <td>25.0</td>\n",
              "      <td>67.0</td>\n",
              "      <td>0.9968</td>\n",
              "      <td>3.20</td>\n",
              "      <td>0.68</td>\n",
              "      <td>9.8</td>\n",
              "      <td>5</td>\n",
              "    </tr>\n",
              "    <tr>\n",
              "      <th>2</th>\n",
              "      <td>7.8</td>\n",
              "      <td>0.76</td>\n",
              "      <td>0.04</td>\n",
              "      <td>2.3</td>\n",
              "      <td>0.092</td>\n",
              "      <td>15.0</td>\n",
              "      <td>54.0</td>\n",
              "      <td>0.9970</td>\n",
              "      <td>3.26</td>\n",
              "      <td>0.65</td>\n",
              "      <td>9.8</td>\n",
              "      <td>5</td>\n",
              "    </tr>\n",
              "  </tbody>\n",
              "</table>\n",
              "</div>\n",
              "    <div class=\"colab-df-buttons\">\n",
              "\n",
              "  <div class=\"colab-df-container\">\n",
              "    <button class=\"colab-df-convert\" onclick=\"convertToInteractive('df-5bafde70-8326-42e8-bd42-ec5e8ce94ff8')\"\n",
              "            title=\"Convert this dataframe to an interactive table.\"\n",
              "            style=\"display:none;\">\n",
              "\n",
              "  <svg xmlns=\"http://www.w3.org/2000/svg\" height=\"24px\" viewBox=\"0 -960 960 960\">\n",
              "    <path d=\"M120-120v-720h720v720H120Zm60-500h600v-160H180v160Zm220 220h160v-160H400v160Zm0 220h160v-160H400v160ZM180-400h160v-160H180v160Zm440 0h160v-160H620v160ZM180-180h160v-160H180v160Zm440 0h160v-160H620v160Z\"/>\n",
              "  </svg>\n",
              "    </button>\n",
              "\n",
              "  <style>\n",
              "    .colab-df-container {\n",
              "      display:flex;\n",
              "      gap: 12px;\n",
              "    }\n",
              "\n",
              "    .colab-df-convert {\n",
              "      background-color: #E8F0FE;\n",
              "      border: none;\n",
              "      border-radius: 50%;\n",
              "      cursor: pointer;\n",
              "      display: none;\n",
              "      fill: #1967D2;\n",
              "      height: 32px;\n",
              "      padding: 0 0 0 0;\n",
              "      width: 32px;\n",
              "    }\n",
              "\n",
              "    .colab-df-convert:hover {\n",
              "      background-color: #E2EBFA;\n",
              "      box-shadow: 0px 1px 2px rgba(60, 64, 67, 0.3), 0px 1px 3px 1px rgba(60, 64, 67, 0.15);\n",
              "      fill: #174EA6;\n",
              "    }\n",
              "\n",
              "    .colab-df-buttons div {\n",
              "      margin-bottom: 4px;\n",
              "    }\n",
              "\n",
              "    [theme=dark] .colab-df-convert {\n",
              "      background-color: #3B4455;\n",
              "      fill: #D2E3FC;\n",
              "    }\n",
              "\n",
              "    [theme=dark] .colab-df-convert:hover {\n",
              "      background-color: #434B5C;\n",
              "      box-shadow: 0px 1px 3px 1px rgba(0, 0, 0, 0.15);\n",
              "      filter: drop-shadow(0px 1px 2px rgba(0, 0, 0, 0.3));\n",
              "      fill: #FFFFFF;\n",
              "    }\n",
              "  </style>\n",
              "\n",
              "    <script>\n",
              "      const buttonEl =\n",
              "        document.querySelector('#df-5bafde70-8326-42e8-bd42-ec5e8ce94ff8 button.colab-df-convert');\n",
              "      buttonEl.style.display =\n",
              "        google.colab.kernel.accessAllowed ? 'block' : 'none';\n",
              "\n",
              "      async function convertToInteractive(key) {\n",
              "        const element = document.querySelector('#df-5bafde70-8326-42e8-bd42-ec5e8ce94ff8');\n",
              "        const dataTable =\n",
              "          await google.colab.kernel.invokeFunction('convertToInteractive',\n",
              "                                                    [key], {});\n",
              "        if (!dataTable) return;\n",
              "\n",
              "        const docLinkHtml = 'Like what you see? Visit the ' +\n",
              "          '<a target=\"_blank\" href=https://colab.research.google.com/notebooks/data_table.ipynb>data table notebook</a>'\n",
              "          + ' to learn more about interactive tables.';\n",
              "        element.innerHTML = '';\n",
              "        dataTable['output_type'] = 'display_data';\n",
              "        await google.colab.output.renderOutput(dataTable, element);\n",
              "        const docLink = document.createElement('div');\n",
              "        docLink.innerHTML = docLinkHtml;\n",
              "        element.appendChild(docLink);\n",
              "      }\n",
              "    </script>\n",
              "  </div>\n",
              "\n",
              "\n",
              "<div id=\"df-3365443d-faeb-4f1e-86e8-6d91d848c509\">\n",
              "  <button class=\"colab-df-quickchart\" onclick=\"quickchart('df-3365443d-faeb-4f1e-86e8-6d91d848c509')\"\n",
              "            title=\"Suggest charts\"\n",
              "            style=\"display:none;\">\n",
              "\n",
              "<svg xmlns=\"http://www.w3.org/2000/svg\" height=\"24px\"viewBox=\"0 0 24 24\"\n",
              "     width=\"24px\">\n",
              "    <g>\n",
              "        <path d=\"M19 3H5c-1.1 0-2 .9-2 2v14c0 1.1.9 2 2 2h14c1.1 0 2-.9 2-2V5c0-1.1-.9-2-2-2zM9 17H7v-7h2v7zm4 0h-2V7h2v10zm4 0h-2v-4h2v4z\"/>\n",
              "    </g>\n",
              "</svg>\n",
              "  </button>\n",
              "\n",
              "<style>\n",
              "  .colab-df-quickchart {\n",
              "      --bg-color: #E8F0FE;\n",
              "      --fill-color: #1967D2;\n",
              "      --hover-bg-color: #E2EBFA;\n",
              "      --hover-fill-color: #174EA6;\n",
              "      --disabled-fill-color: #AAA;\n",
              "      --disabled-bg-color: #DDD;\n",
              "  }\n",
              "\n",
              "  [theme=dark] .colab-df-quickchart {\n",
              "      --bg-color: #3B4455;\n",
              "      --fill-color: #D2E3FC;\n",
              "      --hover-bg-color: #434B5C;\n",
              "      --hover-fill-color: #FFFFFF;\n",
              "      --disabled-bg-color: #3B4455;\n",
              "      --disabled-fill-color: #666;\n",
              "  }\n",
              "\n",
              "  .colab-df-quickchart {\n",
              "    background-color: var(--bg-color);\n",
              "    border: none;\n",
              "    border-radius: 50%;\n",
              "    cursor: pointer;\n",
              "    display: none;\n",
              "    fill: var(--fill-color);\n",
              "    height: 32px;\n",
              "    padding: 0;\n",
              "    width: 32px;\n",
              "  }\n",
              "\n",
              "  .colab-df-quickchart:hover {\n",
              "    background-color: var(--hover-bg-color);\n",
              "    box-shadow: 0 1px 2px rgba(60, 64, 67, 0.3), 0 1px 3px 1px rgba(60, 64, 67, 0.15);\n",
              "    fill: var(--button-hover-fill-color);\n",
              "  }\n",
              "\n",
              "  .colab-df-quickchart-complete:disabled,\n",
              "  .colab-df-quickchart-complete:disabled:hover {\n",
              "    background-color: var(--disabled-bg-color);\n",
              "    fill: var(--disabled-fill-color);\n",
              "    box-shadow: none;\n",
              "  }\n",
              "\n",
              "  .colab-df-spinner {\n",
              "    border: 2px solid var(--fill-color);\n",
              "    border-color: transparent;\n",
              "    border-bottom-color: var(--fill-color);\n",
              "    animation:\n",
              "      spin 1s steps(1) infinite;\n",
              "  }\n",
              "\n",
              "  @keyframes spin {\n",
              "    0% {\n",
              "      border-color: transparent;\n",
              "      border-bottom-color: var(--fill-color);\n",
              "      border-left-color: var(--fill-color);\n",
              "    }\n",
              "    20% {\n",
              "      border-color: transparent;\n",
              "      border-left-color: var(--fill-color);\n",
              "      border-top-color: var(--fill-color);\n",
              "    }\n",
              "    30% {\n",
              "      border-color: transparent;\n",
              "      border-left-color: var(--fill-color);\n",
              "      border-top-color: var(--fill-color);\n",
              "      border-right-color: var(--fill-color);\n",
              "    }\n",
              "    40% {\n",
              "      border-color: transparent;\n",
              "      border-right-color: var(--fill-color);\n",
              "      border-top-color: var(--fill-color);\n",
              "    }\n",
              "    60% {\n",
              "      border-color: transparent;\n",
              "      border-right-color: var(--fill-color);\n",
              "    }\n",
              "    80% {\n",
              "      border-color: transparent;\n",
              "      border-right-color: var(--fill-color);\n",
              "      border-bottom-color: var(--fill-color);\n",
              "    }\n",
              "    90% {\n",
              "      border-color: transparent;\n",
              "      border-bottom-color: var(--fill-color);\n",
              "    }\n",
              "  }\n",
              "</style>\n",
              "\n",
              "  <script>\n",
              "    async function quickchart(key) {\n",
              "      const quickchartButtonEl =\n",
              "        document.querySelector('#' + key + ' button');\n",
              "      quickchartButtonEl.disabled = true;  // To prevent multiple clicks.\n",
              "      quickchartButtonEl.classList.add('colab-df-spinner');\n",
              "      try {\n",
              "        const charts = await google.colab.kernel.invokeFunction(\n",
              "            'suggestCharts', [key], {});\n",
              "      } catch (error) {\n",
              "        console.error('Error during call to suggestCharts:', error);\n",
              "      }\n",
              "      quickchartButtonEl.classList.remove('colab-df-spinner');\n",
              "      quickchartButtonEl.classList.add('colab-df-quickchart-complete');\n",
              "    }\n",
              "    (() => {\n",
              "      let quickchartButtonEl =\n",
              "        document.querySelector('#df-3365443d-faeb-4f1e-86e8-6d91d848c509 button');\n",
              "      quickchartButtonEl.style.display =\n",
              "        google.colab.kernel.accessAllowed ? 'block' : 'none';\n",
              "    })();\n",
              "  </script>\n",
              "</div>\n",
              "    </div>\n",
              "  </div>\n"
            ],
            "application/vnd.google.colaboratory.intrinsic+json": {
              "type": "dataframe",
              "variable_name": "df",
              "summary": "{\n  \"name\": \"df\",\n  \"rows\": 1599,\n  \"fields\": [\n    {\n      \"column\": \"fixed acidity\",\n      \"properties\": {\n        \"dtype\": \"number\",\n        \"std\": 1.7410963181276953,\n        \"min\": 4.6,\n        \"max\": 15.9,\n        \"num_unique_values\": 96,\n        \"samples\": [\n          5.3,\n          12.7,\n          12.6\n        ],\n        \"semantic_type\": \"\",\n        \"description\": \"\"\n      }\n    },\n    {\n      \"column\": \"volatile acidity\",\n      \"properties\": {\n        \"dtype\": \"number\",\n        \"std\": 0.17905970415353537,\n        \"min\": 0.12,\n        \"max\": 1.58,\n        \"num_unique_values\": 143,\n        \"samples\": [\n          1.025,\n          0.4,\n          0.87\n        ],\n        \"semantic_type\": \"\",\n        \"description\": \"\"\n      }\n    },\n    {\n      \"column\": \"citric acid\",\n      \"properties\": {\n        \"dtype\": \"number\",\n        \"std\": 0.19480113740531857,\n        \"min\": 0.0,\n        \"max\": 1.0,\n        \"num_unique_values\": 80,\n        \"samples\": [\n          0.37,\n          0.0,\n          0.09\n        ],\n        \"semantic_type\": \"\",\n        \"description\": \"\"\n      }\n    },\n    {\n      \"column\": \"residual sugar\",\n      \"properties\": {\n        \"dtype\": \"number\",\n        \"std\": 1.4099280595072798,\n        \"min\": 0.9,\n        \"max\": 15.5,\n        \"num_unique_values\": 91,\n        \"samples\": [\n          11.0,\n          3.0,\n          15.5\n        ],\n        \"semantic_type\": \"\",\n        \"description\": \"\"\n      }\n    },\n    {\n      \"column\": \"chlorides\",\n      \"properties\": {\n        \"dtype\": \"number\",\n        \"std\": 0.0470653020100901,\n        \"min\": 0.012,\n        \"max\": 0.611,\n        \"num_unique_values\": 153,\n        \"samples\": [\n          0.096,\n          0.3429999999999999,\n          0.159\n        ],\n        \"semantic_type\": \"\",\n        \"description\": \"\"\n      }\n    },\n    {\n      \"column\": \"free sulfur dioxide\",\n      \"properties\": {\n        \"dtype\": \"number\",\n        \"std\": 10.460156969809725,\n        \"min\": 1.0,\n        \"max\": 72.0,\n        \"num_unique_values\": 60,\n        \"samples\": [\n          11.0,\n          9.0,\n          32.0\n        ],\n        \"semantic_type\": \"\",\n        \"description\": \"\"\n      }\n    },\n    {\n      \"column\": \"total sulfur dioxide\",\n      \"properties\": {\n        \"dtype\": \"number\",\n        \"std\": 32.895324478299074,\n        \"min\": 6.0,\n        \"max\": 289.0,\n        \"num_unique_values\": 144,\n        \"samples\": [\n          68.0,\n          35.0,\n          101.0\n        ],\n        \"semantic_type\": \"\",\n        \"description\": \"\"\n      }\n    },\n    {\n      \"column\": \"density\",\n      \"properties\": {\n        \"dtype\": \"number\",\n        \"std\": 0.0018873339538425554,\n        \"min\": 0.99007,\n        \"max\": 1.00369,\n        \"num_unique_values\": 436,\n        \"samples\": [\n          0.99974,\n          1.0001,\n          0.99471\n        ],\n        \"semantic_type\": \"\",\n        \"description\": \"\"\n      }\n    },\n    {\n      \"column\": \"pH\",\n      \"properties\": {\n        \"dtype\": \"number\",\n        \"std\": 0.15438646490354277,\n        \"min\": 2.74,\n        \"max\": 4.01,\n        \"num_unique_values\": 89,\n        \"samples\": [\n          3.07,\n          3.0,\n          3.15\n        ],\n        \"semantic_type\": \"\",\n        \"description\": \"\"\n      }\n    },\n    {\n      \"column\": \"sulphates\",\n      \"properties\": {\n        \"dtype\": \"number\",\n        \"std\": 0.16950697959010996,\n        \"min\": 0.33,\n        \"max\": 2.0,\n        \"num_unique_values\": 96,\n        \"samples\": [\n          1.07,\n          1.04,\n          1.18\n        ],\n        \"semantic_type\": \"\",\n        \"description\": \"\"\n      }\n    },\n    {\n      \"column\": \"alcohol\",\n      \"properties\": {\n        \"dtype\": \"number\",\n        \"std\": 1.0656675818473946,\n        \"min\": 8.4,\n        \"max\": 14.9,\n        \"num_unique_values\": 65,\n        \"samples\": [\n          8.5,\n          9.95,\n          9.4\n        ],\n        \"semantic_type\": \"\",\n        \"description\": \"\"\n      }\n    },\n    {\n      \"column\": \"quality\",\n      \"properties\": {\n        \"dtype\": \"number\",\n        \"std\": 0,\n        \"min\": 3,\n        \"max\": 8,\n        \"num_unique_values\": 6,\n        \"samples\": [\n          5,\n          6,\n          3\n        ],\n        \"semantic_type\": \"\",\n        \"description\": \"\"\n      }\n    }\n  ]\n}"
            }
          },
          "metadata": {},
          "execution_count": 6
        }
      ],
      "source": [
        "df.head(3)"
      ]
    },
    {
      "cell_type": "code",
      "execution_count": null,
      "metadata": {
        "id": "OCdo8CYlbspG",
        "colab": {
          "base_uri": "https://localhost:8080/"
        },
        "outputId": "651559bb-12a9-4fd1-b6d1-a367f7c6e450"
      },
      "outputs": [
        {
          "output_type": "execute_result",
          "data": {
            "text/plain": [
              "Index(['fixed acidity', 'volatile acidity', 'citric acid', 'residual sugar',\n",
              "       'chlorides', 'free sulfur dioxide', 'total sulfur dioxide', 'density',\n",
              "       'pH', 'sulphates', 'alcohol', 'quality'],\n",
              "      dtype='object')"
            ]
          },
          "metadata": {},
          "execution_count": 7
        }
      ],
      "source": [
        "df.columns"
      ]
    },
    {
      "cell_type": "markdown",
      "metadata": {
        "id": "uohE-kqT3JN_"
      },
      "source": [
        "## 01 Simple Version of Data Viz"
      ]
    },
    {
      "cell_type": "code",
      "execution_count": null,
      "metadata": {
        "id": "l9PCDiwE3HN2",
        "colab": {
          "base_uri": "https://localhost:8080/"
        },
        "outputId": "a49609ce-6ebf-4739-8772-07d52cec53c1"
      },
      "outputs": [
        {
          "output_type": "stream",
          "name": "stdout",
          "text": [
            "Writing app.py\n"
          ]
        }
      ],
      "source": [
        "%%writefile app.py\n",
        "# Streamlit is an open-source app framework for Machine Learning and Data Science projects.\n",
        "import streamlit as st\n",
        "\n",
        "# Pandas is a fast, powerful, flexible, and easy-to-use open-source data analysis and data manipulation Python library.\n",
        "import pandas as pd\n",
        "\n",
        "# NumPy is a library for the Python programming language, adding support for large, multi-dimensional arrays and matrices, along with a large collection of high-level mathematical functions.\n",
        "import numpy as np\n",
        "\n",
        "# Matplotlib is a plotting library for the Python programming language and its numerical mathematics extension NumPy.\n",
        "import matplotlib.pyplot as plt\n",
        "\n",
        "# Seaborn is a Python data visualization library based on Matplotlib. It provides a high-level interface for drawing attractive and informative statistical graphics.\n",
        "import seaborn as sns\n",
        "\n",
        "# Plotly Express is a terse, consistent, high-level API for creating figures with Plotly.py.\n",
        "import plotly.express as px\n",
        "\n",
        "# (Note: Streamlit is imported twice in the provided code, which is redundant.)\n",
        "import streamlit as st\n",
        "\n",
        "# Python's built-in library for generating random numbers.\n",
        "import random\n",
        "\n",
        "# PIL (Python Imaging Library) is a free library for the Python programming language that adds support for opening, manipulating, and saving many different image file formats.\n",
        "from PIL import Image\n",
        "\n",
        "\n",
        "# Load the NYU logo image >>>>>>>>>>>>\n",
        "image_nyu = Image.open('nyu.png')\n",
        "# Display the NYU logo on the Streamlit app\n",
        "st.image(image_nyu, width=100)\n",
        "\n",
        "# Set the title for the Streamlit app >>>>>>>>>>>>\n",
        "st.title(\"Linear Regression Example\")\n",
        "\n",
        "# Create a sidebar header and a separator\n",
        "st.sidebar.header(\"Dashboard\")\n",
        "st.sidebar.markdown(\"---\")\n",
        "\n",
        "df = pd.read_csv(\"wine_quality_red.csv\")\n",
        "#df = pd.read_csv(\"df_spotify_final.csv\")\n",
        "\n",
        "\n",
        "# Display a header for the Visualization section\n",
        "st.markdown(\"## Visualization\")\n",
        "\n",
        "\n",
        "# Display a line chart for the selected variables\n",
        "st.line_chart(data=df, x=\"quality\", y=\"citric acid\", width=0, height=0, use_container_width=True)\n",
        "# Display a bar chart for the selected variables\n",
        "st.bar_chart(data=df, x=\"quality\", y=\"citric acid\", use_container_width=True)\n",
        "\n"
      ]
    },
    {
      "cell_type": "code",
      "execution_count": null,
      "metadata": {
        "id": "MOLUyNtBaD9J",
        "colab": {
          "base_uri": "https://localhost:8080/"
        },
        "outputId": "6807bd19-b1c0-4201-c927-d0d923656527"
      },
      "outputs": [
        {
          "output_type": "stream",
          "name": "stdout",
          "text": [
            "\n",
            "Collecting usage statistics. To deactivate, set browser.gatherUsageStats to False.\n",
            "\u001b[0m\n",
            "\u001b[0m\n",
            "\u001b[34m\u001b[1m  You can now view your Streamlit app in your browser.\u001b[0m\n",
            "\u001b[0m\n",
            "\u001b[34m  Network URL: \u001b[0m\u001b[1mhttp://172.28.0.12:8501\u001b[0m\n",
            "\u001b[34m  External URL: \u001b[0m\u001b[1mhttp://35.186.163.228:8501\u001b[0m\n",
            "\u001b[0m\n",
            "\u001b[K\u001b[?25hnpx: installed 22 in 4.546s\n",
            "your url is: https://public-hands-start.loca.lt\n",
            "\u001b[34m  Stopping...\u001b[0m\n",
            "^C\n"
          ]
        }
      ],
      "source": [
        "!streamlit run app.py & npx localtunnel --port 8501"
      ]
    },
    {
      "cell_type": "markdown",
      "metadata": {
        "id": "owrWVVBSX8h-"
      },
      "source": [
        "## 02 Creating tabs for different Visuals"
      ]
    },
    {
      "cell_type": "code",
      "execution_count": null,
      "metadata": {
        "id": "aVOv38RohnqW",
        "colab": {
          "base_uri": "https://localhost:8080/"
        },
        "outputId": "59eee531-9896-4b36-861b-89aa2e8f8dda"
      },
      "outputs": [
        {
          "output_type": "stream",
          "name": "stdout",
          "text": [
            "Overwriting app.py\n"
          ]
        }
      ],
      "source": [
        "%%writefile app.py\n",
        "# Streamlit is an open-source app framework for Machine Learning and Data Science projects.\n",
        "import streamlit as st\n",
        "\n",
        "# Pandas is a fast, powerful, flexible, and easy-to-use open-source data analysis and data manipulation Python library.\n",
        "import pandas as pd\n",
        "\n",
        "# NumPy is a library for the Python programming language, adding support for large, multi-dimensional arrays and matrices, along with a large collection of high-level mathematical functions.\n",
        "import numpy as np\n",
        "\n",
        "# Matplotlib is a plotting library for the Python programming language and its numerical mathematics extension NumPy.\n",
        "import matplotlib.pyplot as plt\n",
        "\n",
        "# Seaborn is a Python data visualization library based on Matplotlib. It provides a high-level interface for drawing attractive and informative statistical graphics.\n",
        "import seaborn as sns\n",
        "\n",
        "# Plotly Express is a terse, consistent, high-level API for creating figures with Plotly.py.\n",
        "import plotly.express as px\n",
        "\n",
        "# (Note: Streamlit is imported twice in the provided code, which is redundant.)\n",
        "import streamlit as st\n",
        "\n",
        "# Python's built-in library for generating random numbers.\n",
        "import random\n",
        "\n",
        "# PIL (Python Imaging Library) is a free library for the Python programming language that adds support for opening, manipulating, and saving many different image file formats.\n",
        "from PIL import Image\n",
        "\n",
        "\n",
        "# Load the NYU logo image >>>>>>>>>>>>\n",
        "image_nyu = Image.open('nyu.png')\n",
        "# Display the NYU logo on the Streamlit app\n",
        "st.image(image_nyu, width=100)\n",
        "\n",
        "# Set the title for the Streamlit app >>>>>>>>>>>>\n",
        "st.title(\"Linear Regression Example\")\n",
        "\n",
        "# Create a sidebar header and a separator\n",
        "st.sidebar.header(\"Dashboard\")\n",
        "st.sidebar.markdown(\"---\")\n",
        "\n",
        "df = pd.read_csv(\"wine_quality_red.csv\")\n",
        "#df = pd.read_csv(\"df_spotify_final.csv\")\n",
        "\n",
        "\n",
        "# Display a header for the Visualization section\n",
        "st.markdown(\"## Visualization\")\n",
        "\n",
        "tab1, tab2 = st.tabs([\"Line Chart\", \"Bar Chart\"])\n",
        "\n",
        "tab1.subheader(\"Line Chart\")\n",
        "# Display a line chart for the selected variables\n",
        "tab1.line_chart(data=df, x=\"quality\", y=\"citric acid\", width=0, height=0, use_container_width=True)\n",
        "\n",
        "tab2.subheader(\"Bar Chart\")\n",
        "# Display a bar chart for the selected variables\n",
        "tab2.bar_chart(data=df, x=\"quality\", y=\"citric acid\", use_container_width=True)\n",
        "\n"
      ]
    },
    {
      "cell_type": "code",
      "execution_count": null,
      "metadata": {
        "id": "Ghpn-qhGh-Cu",
        "colab": {
          "base_uri": "https://localhost:8080/"
        },
        "outputId": "509a5b02-c1c2-4099-c0cd-5606b2d7a90d"
      },
      "outputs": [
        {
          "output_type": "stream",
          "name": "stdout",
          "text": [
            "\u001b[?25l[..................] / rollbackFailedOptional: verb npm-session 9a82e730dce8c5f\u001b[0m\u001b[K\r[..................] \\ fetchMetadata: sill resolveWithNewModule localtunnel@2.0\u001b[0m\u001b[K\r[..................] \\ fetchMetadata: sill resolveWithNewModule localtunnel@2.0\u001b[0m\u001b[K\r[..................] \\ fetchMetadata: sill resolveWithNewModule yargs@17.1.1 ch\u001b[0m\u001b[K\r\n",
            "Collecting usage statistics. To deactivate, set browser.gatherUsageStats to False.\n",
            "\u001b[0m\n",
            "\u001b[0m\n",
            "\u001b[34m\u001b[1m  You can now view your Streamlit app in your browser.\u001b[0m\n",
            "\u001b[0m\n",
            "\u001b[34m  Network URL: \u001b[0m\u001b[1mhttp://172.28.0.12:8501\u001b[0m\n",
            "\u001b[34m  External URL: \u001b[0m\u001b[1mhttp://35.186.163.228:8501\u001b[0m\n",
            "\u001b[0m\n",
            "\u001b[K\u001b[?25hnpx: installed 22 in 2.164s\n",
            "your url is: https://mighty-parts-flow.loca.lt\n",
            "\u001b[34m  Stopping...\u001b[0m\n",
            "^C\n"
          ]
        }
      ],
      "source": [
        "!streamlit run app.py & npx localtunnel --port 8501"
      ]
    },
    {
      "cell_type": "code",
      "execution_count": null,
      "metadata": {
        "id": "UMtg0QOYaBov"
      },
      "outputs": [],
      "source": []
    },
    {
      "cell_type": "markdown",
      "metadata": {
        "id": "xeIksdoUYImU"
      },
      "source": [
        "## 03 Adaptable Charts"
      ]
    },
    {
      "cell_type": "code",
      "execution_count": null,
      "metadata": {
        "id": "FqV0rGeIjSeY",
        "colab": {
          "base_uri": "https://localhost:8080/"
        },
        "outputId": "25156229-bf20-4c46-ae05-b7bc2fa420a0"
      },
      "outputs": [
        {
          "output_type": "stream",
          "name": "stdout",
          "text": [
            "Overwriting app.py\n"
          ]
        }
      ],
      "source": [
        "%%writefile app.py\n",
        "# Streamlit is an open-source app framework for Machine Learning and Data Science projects.\n",
        "import streamlit as st\n",
        "\n",
        "# Pandas is a fast, powerful, flexible, and easy-to-use open-source data analysis and data manipulation Python library.\n",
        "import pandas as pd\n",
        "\n",
        "# NumPy is a library for the Python programming language, adding support for large, multi-dimensional arrays and matrices, along with a large collection of high-level mathematical functions.\n",
        "import numpy as np\n",
        "\n",
        "# Matplotlib is a plotting library for the Python programming language and its numerical mathematics extension NumPy.\n",
        "import matplotlib.pyplot as plt\n",
        "\n",
        "# Seaborn is a Python data visualization library based on Matplotlib. It provides a high-level interface for drawing attractive and informative statistical graphics.\n",
        "import seaborn as sns\n",
        "\n",
        "# Plotly Express is a terse, consistent, high-level API for creating figures with Plotly.py.\n",
        "import plotly.express as px\n",
        "\n",
        "# (Note: Streamlit is imported twice in the provided code, which is redundant.)\n",
        "import streamlit as st\n",
        "\n",
        "# Python's built-in library for generating random numbers.\n",
        "import random\n",
        "\n",
        "# PIL (Python Imaging Library) is a free library for the Python programming language that adds support for opening, manipulating, and saving many different image file formats.\n",
        "from PIL import Image\n",
        "\n",
        "\n",
        "# Load the NYU logo image >>>>>>>>>>>>\n",
        "image_nyu = Image.open('nyu.png')\n",
        "# Display the NYU logo on the Streamlit app\n",
        "st.image(image_nyu, width=100)\n",
        "\n",
        "# Set the title for the Streamlit app >>>>>>>>>>>>\n",
        "st.title(\"Linear Regression Example\")\n",
        "\n",
        "# Create a sidebar header and a separator\n",
        "st.sidebar.header(\"Dashboard\")\n",
        "st.sidebar.markdown(\"---\")\n",
        "\n",
        "df = pd.read_csv(\"wine_quality_red.csv\")\n",
        "#df = pd.read_csv(\"df_spotify_final.csv\")\n",
        "\n",
        "\n",
        "list_variables = df.columns\n",
        "\n",
        "# Display a header for the Visualization section\n",
        "st.markdown(\"## Visualization\")\n",
        "symbols = st.multiselect(\"Select two variables\", list_variables, [\"quality\", \"citric acid\"])\n",
        "\n",
        "tab1, tab2 = st.tabs([\"Line Chart\", \"Bar Chart\"])\n",
        "\n",
        "tab1.subheader(\"Line Chart\")\n",
        "# Display a line chart for the selected variables\n",
        "tab1.line_chart(data=df, x=symbols[0], y=symbols[1], width=0, height=0, use_container_width=True)\n",
        "\n",
        "tab2.subheader(\"Bar Chart\")\n",
        "# Display a bar chart for the selected variables\n",
        "tab2.bar_chart(data=df, x=symbols[0], y=symbols[1], use_container_width=True)\n",
        "\n"
      ]
    },
    {
      "cell_type": "code",
      "execution_count": null,
      "metadata": {
        "id": "5lGp8BfQjUIG",
        "colab": {
          "base_uri": "https://localhost:8080/"
        },
        "outputId": "810a61b3-7f91-4e9e-bee5-a8426b92b411"
      },
      "outputs": [
        {
          "output_type": "stream",
          "name": "stdout",
          "text": [
            "[..................] \\ fetchMetadata: sill resolveWithNewModule yargs@17.1.1 ch\u001b[0m\u001b[K\n",
            "Collecting usage statistics. To deactivate, set browser.gatherUsageStats to False.\n",
            "\u001b[0m\n",
            "\u001b[0m\n",
            "\u001b[34m\u001b[1m  You can now view your Streamlit app in your browser.\u001b[0m\n",
            "\u001b[0m\n",
            "\u001b[34m  Network URL: \u001b[0m\u001b[1mhttp://172.28.0.12:8501\u001b[0m\n",
            "\u001b[34m  External URL: \u001b[0m\u001b[1mhttp://35.186.163.228:8501\u001b[0m\n",
            "\u001b[0m\n",
            "\u001b[K\u001b[?25hnpx: installed 22 in 2.298s\n",
            "your url is: https://two-singers-jump.loca.lt\n",
            "\u001b[34m  Stopping...\u001b[0m\n",
            "^C\n"
          ]
        }
      ],
      "source": [
        "!streamlit run app.py & npx localtunnel --port 8501"
      ]
    },
    {
      "cell_type": "markdown",
      "metadata": {
        "id": "MsWB-WDwkzD_"
      },
      "source": [
        "## 04 Filtered Graphs"
      ]
    },
    {
      "cell_type": "code",
      "execution_count": null,
      "metadata": {
        "id": "rc_ekyzAk2Lc",
        "colab": {
          "base_uri": "https://localhost:8080/"
        },
        "outputId": "2de6a480-99cd-4f65-f31d-68a96e49b126"
      },
      "outputs": [
        {
          "output_type": "stream",
          "name": "stdout",
          "text": [
            "Overwriting app.py\n"
          ]
        }
      ],
      "source": [
        "%%writefile app.py\n",
        "# Streamlit is an open-source app framework for Machine Learning and Data Science projects.\n",
        "import streamlit as st\n",
        "\n",
        "# Pandas is a fast, powerful, flexible, and easy-to-use open-source data analysis and data manipulation Python library.\n",
        "import pandas as pd\n",
        "\n",
        "# NumPy is a library for the Python programming language, adding support for large, multi-dimensional arrays and matrices, along with a large collection of high-level mathematical functions.\n",
        "import numpy as np\n",
        "\n",
        "# Matplotlib is a plotting library for the Python programming language and its numerical mathematics extension NumPy.\n",
        "import matplotlib.pyplot as plt\n",
        "\n",
        "# Seaborn is a Python data visualization library based on Matplotlib. It provides a high-level interface for drawing attractive and informative statistical graphics.\n",
        "import seaborn as sns\n",
        "\n",
        "# Plotly Express is a terse, consistent, high-level API for creating figures with Plotly.py.\n",
        "import plotly.express as px\n",
        "\n",
        "# (Note: Streamlit is imported twice in the provided code, which is redundant.)\n",
        "import streamlit as st\n",
        "\n",
        "# Python's built-in library for generating random numbers.\n",
        "import random\n",
        "\n",
        "# PIL (Python Imaging Library) is a free library for the Python programming language that adds support for opening, manipulating, and saving many different image file formats.\n",
        "from PIL import Image\n",
        "\n",
        "\n",
        "# Load the NYU logo image >>>>>>>>>>>>\n",
        "image_nyu = Image.open('nyu.png')\n",
        "# Display the NYU logo on the Streamlit app\n",
        "st.image(image_nyu, width=100)\n",
        "\n",
        "# Set the title for the Streamlit app >>>>>>>>>>>>\n",
        "st.title(\"Linear Regression Example\")\n",
        "\n",
        "# Create a sidebar header and a separator\n",
        "st.sidebar.header(\"Dashboard\")\n",
        "st.sidebar.markdown(\"---\")\n",
        "\n",
        "df = pd.read_csv(\"wine_quality_red.csv\")\n",
        "#df = pd.read_csv(\"df_spotify_final.csv\")\n",
        "\n",
        "\n",
        "list_variables = df.columns\n",
        "\n",
        "# Display a header for the Visualization section\n",
        "st.markdown(\"## Visualization\")\n",
        "symbols = st.multiselect(\"Select two variables\", list_variables, [\"quality\", \"citric acid\"])\n",
        "\n",
        "\n",
        "quality_min, quality_max = st.sidebar.slider('Select Quality Range', min_value=int(df['quality'].min()), max_value=int(df['quality'].max()), value=(int(df['quality'].min()), int(df['quality'].max())))\n",
        "citric_acid_min, citric_acid_max = st.sidebar.slider('Select Citric Acid Range', min_value=float(df['citric acid'].min()), max_value=float(df['citric acid'].max()), value=(float(df['citric acid'].min()), float(df['citric acid'].max())))\n",
        "\n",
        "# Filtering the dataframe based on the slider values\n",
        "filtered_df = df[(df['quality'] >= quality_min) & (df['quality'] <= quality_max) & (df['citric acid'] >= citric_acid_min) & (df['citric acid'] <= citric_acid_max)]\n",
        "\n",
        "\n",
        "tab1, tab2 = st.tabs([\"Line Chart\", \"Bar Chart\"])\n",
        "\n",
        "tab1.subheader(\"Line Chart\")\n",
        "# Display a line chart for the selected variables\n",
        "tab1.line_chart(data=filtered_df, x=symbols[0], y=symbols[1], width=0, height=0, use_container_width=True)\n",
        "\n",
        "tab2.subheader(\"Bar Chart\")\n",
        "# Display a bar chart for the selected variables\n",
        "tab2.bar_chart(data=filtered_df, x=symbols[0], y=symbols[1], use_container_width=True)\n",
        "\n"
      ]
    },
    {
      "cell_type": "code",
      "execution_count": null,
      "metadata": {
        "id": "bNiF0xMXk2Su",
        "colab": {
          "base_uri": "https://localhost:8080/"
        },
        "outputId": "69e72a8f-edb0-4228-c502-5009656a40da"
      },
      "outputs": [
        {
          "output_type": "stream",
          "name": "stdout",
          "text": [
            "[##................] | loadDep:strip-ansi: sill resolveWithNewModule wrap-ansi@\u001b[0m\u001b[K\n",
            "Collecting usage statistics. To deactivate, set browser.gatherUsageStats to False.\n",
            "\u001b[0m\n",
            "\u001b[0m\n",
            "\u001b[34m\u001b[1m  You can now view your Streamlit app in your browser.\u001b[0m\n",
            "\u001b[0m\n",
            "\u001b[34m  Network URL: \u001b[0m\u001b[1mhttp://172.28.0.12:8501\u001b[0m\n",
            "\u001b[34m  External URL: \u001b[0m\u001b[1mhttp://35.186.163.228:8501\u001b[0m\n",
            "\u001b[0m\n",
            "\u001b[K\u001b[?25hnpx: installed 22 in 4.156s\n",
            "your url is: https://dirty-pianos-tickle.loca.lt\n",
            "\u001b[34m  Stopping...\u001b[0m\n",
            "^C\n"
          ]
        }
      ],
      "source": [
        "!streamlit run app.py & npx localtunnel --port 8501"
      ]
    },
    {
      "cell_type": "markdown",
      "metadata": {
        "id": "3TcCsgcyYLcT"
      },
      "source": [
        "## 04 Add Dataset Description"
      ]
    },
    {
      "cell_type": "code",
      "execution_count": null,
      "metadata": {
        "id": "xxmmWrD0YPe4",
        "colab": {
          "base_uri": "https://localhost:8080/"
        },
        "outputId": "4acd2086-8fb5-42ca-fa04-2d738876cd82"
      },
      "outputs": [
        {
          "output_type": "stream",
          "name": "stdout",
          "text": [
            "Overwriting app.py\n"
          ]
        }
      ],
      "source": [
        "%%writefile app.py\n",
        "# Streamlit is an open-source app framework for Machine Learning and Data Science projects.\n",
        "import streamlit as st\n",
        "\n",
        "# Pandas is a fast, powerful, flexible, and easy-to-use open-source data analysis and data manipulation Python library.\n",
        "import pandas as pd\n",
        "\n",
        "# NumPy is a library for the Python programming language, adding support for large, multi-dimensional arrays and matrices, along with a large collection of high-level mathematical functions.\n",
        "import numpy as np\n",
        "\n",
        "# Matplotlib is a plotting library for the Python programming language and its numerical mathematics extension NumPy.\n",
        "import matplotlib.pyplot as plt\n",
        "\n",
        "# Seaborn is a Python data visualization library based on Matplotlib. It provides a high-level interface for drawing attractive and informative statistical graphics.\n",
        "import seaborn as sns\n",
        "\n",
        "# Plotly Express is a terse, consistent, high-level API for creating figures with Plotly.py.\n",
        "import plotly.express as px\n",
        "\n",
        "# (Note: Streamlit is imported twice in the provided code, which is redundant.)\n",
        "import streamlit as st\n",
        "\n",
        "# Python's built-in library for generating random numbers.\n",
        "import random\n",
        "\n",
        "# PIL (Python Imaging Library) is a free library for the Python programming language that adds support for opening, manipulating, and saving many different image file formats.\n",
        "from PIL import Image\n",
        "\n",
        "\n",
        "# Load the NYU logo image >>>>>>>>>>>>\n",
        "image_nyu = Image.open('nyu.png')\n",
        "# Display the NYU logo on the Streamlit app\n",
        "st.image(image_nyu, width=100)\n",
        "\n",
        "# Set the title for the Streamlit app >>>>>>>>>>>>\n",
        "st.title(\"Linear Regression Example\")\n",
        "\n",
        "# Create a sidebar header and a separator\n",
        "st.sidebar.header(\"Dashboard\")\n",
        "st.sidebar.markdown(\"---\")\n",
        "\n",
        "df = pd.read_csv(\"wine_quality_red.csv\")\n",
        "#df = pd.read_csv(\"df_spotify_final.csv\")\n",
        "\n",
        "\n",
        "## Description of Dataset\n",
        "\n",
        "num = st.number_input('No of Rows',5,10)\n",
        "st.dataframe(df.head(num))\n",
        "\n",
        "### Description of the dataset\n",
        "\n",
        "st.dataframe(df.describe())\n",
        "\n",
        "### Missing value\n",
        "\n",
        "dfnull = df.isnull().sum()/len(df)*100\n",
        "totalmiss = dfnull.sum().round(2)\n",
        "st.write(\"Percentage of missing value in my dataset\",totalmiss)\n",
        "\n",
        "\n",
        "\n",
        "\n",
        "list_variables = df.columns\n",
        "\n",
        "# Display a header for the Visualization section\n",
        "st.markdown(\"## Visualization\")\n",
        "symbols = st.multiselect(\"Select two variables\", list_variables, [\"quality\", \"citric acid\"])\n",
        "\n",
        "\n",
        "quality_min, quality_max = st.sidebar.slider('Select Quality Range', min_value=int(df['quality'].min()), max_value=int(df['quality'].max()), value=(int(df['quality'].min()), int(df['quality'].max())))\n",
        "citric_acid_min, citric_acid_max = st.sidebar.slider('Select Citric Acid Range', min_value=float(df['citric acid'].min()), max_value=float(df['citric acid'].max()), value=(float(df['citric acid'].min()), float(df['citric acid'].max())))\n",
        "\n",
        "# Filtering the dataframe based on the slider values\n",
        "filtered_df = df[(df['quality'] >= quality_min) & (df['quality'] <= quality_max) & (df['citric acid'] >= citric_acid_min) & (df['citric acid'] <= citric_acid_max)]\n",
        "\n",
        "\n",
        "tab1, tab2 = st.tabs([\"Line Chart\", \"Bar Chart\"])\n",
        "\n",
        "tab1.subheader(\"Line Chart\")\n",
        "# Display a line chart for the selected variables\n",
        "tab1.line_chart(data=filtered_df, x=symbols[0], y=symbols[1], width=0, height=0, use_container_width=True)\n",
        "\n",
        "tab2.subheader(\"Bar Chart\")\n",
        "# Display a bar chart for the selected variables\n",
        "tab2.bar_chart(data=filtered_df, x=symbols[0], y=symbols[1], use_container_width=True)\n",
        "\n"
      ]
    },
    {
      "cell_type": "code",
      "execution_count": null,
      "metadata": {
        "id": "gt6GNg-6nsm1",
        "colab": {
          "base_uri": "https://localhost:8080/"
        },
        "outputId": "a4ed45c5-6d70-41be-99ab-99fde27b9e9d"
      },
      "outputs": [
        {
          "output_type": "stream",
          "name": "stdout",
          "text": [
            "[##................] / fetchMetadata: sill resolveWithNewModule ms@2.1.2 checki\u001b[0m\u001b[K\n",
            "Collecting usage statistics. To deactivate, set browser.gatherUsageStats to False.\n",
            "\u001b[0m\n",
            "\u001b[0m\n",
            "\u001b[34m\u001b[1m  You can now view your Streamlit app in your browser.\u001b[0m\n",
            "\u001b[0m\n",
            "\u001b[34m  Network URL: \u001b[0m\u001b[1mhttp://172.28.0.12:8501\u001b[0m\n",
            "\u001b[34m  External URL: \u001b[0m\u001b[1mhttp://35.186.163.228:8501\u001b[0m\n",
            "\u001b[0m\n",
            "\u001b[K\u001b[?25hnpx: installed 22 in 2.296s\n",
            "your url is: https://metal-toes-wonder.loca.lt\n",
            "\u001b[34m  Stopping...\u001b[0m\n",
            "^C\n"
          ]
        }
      ],
      "source": [
        "!streamlit run app.py & npx localtunnel --port 8501"
      ]
    },
    {
      "cell_type": "markdown",
      "metadata": {
        "id": "-FdBvx1DZjuD"
      },
      "source": [
        "## Add dataset summary option"
      ]
    },
    {
      "cell_type": "code",
      "execution_count": null,
      "metadata": {
        "id": "Q2tSdliZZpcO",
        "colab": {
          "base_uri": "https://localhost:8080/"
        },
        "outputId": "955bbe66-d290-4537-deae-0f9b58d41321"
      },
      "outputs": [
        {
          "output_type": "stream",
          "name": "stdout",
          "text": [
            "Overwriting app.py\n"
          ]
        }
      ],
      "source": [
        "%%writefile app.py\n",
        "# Streamlit is an open-source app framework for Machine Learning and Data Science projects.\n",
        "import streamlit as st\n",
        "\n",
        "# Pandas is a fast, powerful, flexible, and easy-to-use open-source data analysis and data manipulation Python library.\n",
        "import pandas as pd\n",
        "\n",
        "# NumPy is a library for the Python programming language, adding support for large, multi-dimensional arrays and matrices, along with a large collection of high-level mathematical functions.\n",
        "import numpy as np\n",
        "\n",
        "# Matplotlib is a plotting library for the Python programming language and its numerical mathematics extension NumPy.\n",
        "import matplotlib.pyplot as plt\n",
        "\n",
        "# Seaborn is a Python data visualization library based on Matplotlib. It provides a high-level interface for drawing attractive and informative statistical graphics.\n",
        "import seaborn as sns\n",
        "\n",
        "# Plotly Express is a terse, consistent, high-level API for creating figures with Plotly.py.\n",
        "import plotly.express as px\n",
        "\n",
        "# (Note: Streamlit is imported twice in the provided code, which is redundant.)\n",
        "import streamlit as st\n",
        "\n",
        "# Python's built-in library for generating random numbers.\n",
        "import random\n",
        "\n",
        "# PIL (Python Imaging Library) is a free library for the Python programming language that adds support for opening, manipulating, and saving many different image file formats.\n",
        "from PIL import Image\n",
        "\n",
        "\n",
        "# Load the NYU logo image >>>>>>>>>>>>\n",
        "image_nyu = Image.open('nyu.png')\n",
        "# Display the NYU logo on the Streamlit app\n",
        "st.image(image_nyu, width=100)\n",
        "\n",
        "# Set the title for the Streamlit app >>>>>>>>>>>>\n",
        "st.title(\"Linear Regression Example\")\n",
        "\n",
        "# Create a sidebar header and a separator\n",
        "st.sidebar.header(\"Dashboard\")\n",
        "st.sidebar.markdown(\"---\")\n",
        "\n",
        "df = pd.read_csv(\"wine_quality_red.csv\")\n",
        "#df = pd.read_csv(\"df_spotify_final.csv\")\n",
        "\n",
        "\n",
        "## Description of Dataset\n",
        "\n",
        "num = st.number_input('No of Rows',5,10)\n",
        "st.dataframe(df.head(num))\n",
        "\n",
        "### Description of the dataset\n",
        "\n",
        "st.dataframe(df.describe())\n",
        "\n",
        "if st.button(\"Show Describe Code\"):\n",
        "        code = '''df.describe()'''\n",
        "        st.code(code, language='python')\n",
        "\n",
        "if st.button(\"Generate Report\"):\n",
        "  import streamlit as st\n",
        "  import streamlit.components.v1 as components\n",
        "\n",
        "  # Title for your app\n",
        "  st.title('Sweetviz Report in Streamlit')\n",
        "\n",
        "  # Display the Sweetviz report\n",
        "  report_path = 'report.html'\n",
        "  HtmlFile = open(report_path, 'r', encoding='utf-8')\n",
        "  source_code = HtmlFile.read()\n",
        "  components.html(source_code, height=1000,width=1000)\n",
        "\n",
        "\n",
        "list_variables = df.columns\n",
        "\n",
        "# Display a header for the Visualization section\n",
        "st.markdown(\"## Visualization\")\n",
        "symbols = st.multiselect(\"Select two variables\", list_variables, [\"quality\", \"citric acid\"])\n",
        "\n",
        "\n",
        "quality_min, quality_max = st.sidebar.slider('Select Quality Range', min_value=int(df['quality'].min()), max_value=int(df['quality'].max()), value=(int(df['quality'].min()), int(df['quality'].max())))\n",
        "citric_acid_min, citric_acid_max = st.sidebar.slider('Select Citric Acid Range', min_value=float(df['citric acid'].min()), max_value=float(df['citric acid'].max()), value=(float(df['citric acid'].min()), float(df['citric acid'].max())))\n",
        "\n",
        "# Filtering the dataframe based on the slider values\n",
        "filtered_df = df[(df['quality'] >= quality_min) & (df['quality'] <= quality_max) & (df['citric acid'] >= citric_acid_min) & (df['citric acid'] <= citric_acid_max)]\n",
        "\n",
        "\n",
        "tab1, tab2 = st.tabs([\"Line Chart\", \"Bar Chart\"])\n",
        "\n",
        "tab1.subheader(\"Line Chart\")\n",
        "# Display a line chart for the selected variables\n",
        "tab1.line_chart(data=filtered_df, x=symbols[0], y=symbols[1], width=0, height=0, use_container_width=True)\n",
        "\n",
        "tab2.subheader(\"Bar Chart\")\n",
        "# Display a bar chart for the selected variables\n",
        "tab2.bar_chart(data=filtered_df, x=symbols[0], y=symbols[1], use_container_width=True)\n",
        "\n"
      ]
    },
    {
      "cell_type": "code",
      "source": [
        "import sweetviz as sv\n",
        "import pandas as pd\n",
        "\n",
        "# Load your dataset\n",
        "data = pd.read_csv('wine_quality_red.csv')\n",
        "\n",
        "# Generate the Sweetviz report\n",
        "report = sv.analyze(data)\n",
        "\n",
        "# Save the report to an HTML file\n",
        "report.show_html('report.html')\n"
      ],
      "metadata": {
        "id": "di2-PeoG1MFn",
        "colab": {
          "base_uri": "https://localhost:8080/",
          "height": 86,
          "referenced_widgets": [
            "69acc15d61424c75a53525b2e846363d",
            "43927fbd74454d3bafd514e591406b9b",
            "c16b56a8e1e24782831bd63e026ccb19",
            "09ce0220c90041f8b23f1aae30075bf8",
            "c1cc21d698ee459682d6c62c7b0017a8",
            "2e3814531c3847339c0f735cfbba37b7",
            "86a4901ab838438bbf33d1a86b7c86d2",
            "c1e11ff0765640a09bb327effa777274",
            "560afc9555724f30bac8febfb3dcea32",
            "7afc78fe76df46d2a983efddf08d2ffe",
            "00bc0c6fe8134ab69ade190c58a7de45"
          ]
        },
        "outputId": "0e12bd76-8388-4f8c-96c0-57cc5cf760e8"
      },
      "execution_count": null,
      "outputs": [
        {
          "output_type": "display_data",
          "data": {
            "text/plain": [
              "                                             |          | [  0%]   00:00 -> (? left)"
            ],
            "application/vnd.jupyter.widget-view+json": {
              "version_major": 2,
              "version_minor": 0,
              "model_id": "69acc15d61424c75a53525b2e846363d"
            }
          },
          "metadata": {}
        },
        {
          "output_type": "stream",
          "name": "stdout",
          "text": [
            "Report report.html was generated! NOTEBOOK/COLAB USERS: the web browser MAY not pop up, regardless, the report IS saved in your notebook/colab files.\n"
          ]
        }
      ]
    },
    {
      "cell_type": "code",
      "execution_count": null,
      "metadata": {
        "id": "CtAGqIuZntZW",
        "colab": {
          "base_uri": "https://localhost:8080/"
        },
        "outputId": "e9774570-02e3-4af8-e511-a22953357bac"
      },
      "outputs": [
        {
          "output_type": "stream",
          "name": "stdout",
          "text": [
            "\u001b[?25l[..................] / rollbackFailedOptional: verb npm-session 5897cd9e4ec32ee\u001b[0m\u001b[K\r[..................] / rollbackFailedOptional: verb npm-session 5897cd9e4ec32ee\u001b[0m\u001b[K\r[..................] / rollbackFailedOptional: verb npm-session 5897cd9e4ec32ee\u001b[0m\u001b[K\r[..................] \\ fetchMetadata: sill resolveWithNewModule localtunnel@2.0\u001b[0m\u001b[K\r[..................] \\ fetchMetadata: sill resolveWithNewModule localtunnel@2.0\u001b[0m\u001b[K\r\n",
            "Collecting usage statistics. To deactivate, set browser.gatherUsageStats to False.\n",
            "\u001b[0m\n",
            "\u001b[0m\n",
            "\u001b[34m\u001b[1m  You can now view your Streamlit app in your browser.\u001b[0m\n",
            "\u001b[0m\n",
            "\u001b[34m  Network URL: \u001b[0m\u001b[1mhttp://172.28.0.12:8501\u001b[0m\n",
            "\u001b[34m  External URL: \u001b[0m\u001b[1mhttp://35.186.163.228:8501\u001b[0m\n",
            "\u001b[0m\n",
            "\u001b[K\u001b[?25hnpx: installed 22 in 3.438s\n",
            "your url is: https://wild-terms-smash.loca.lt\n",
            "\u001b[34m  Stopping...\u001b[0m\n",
            "^C\n"
          ]
        }
      ],
      "source": [
        "!streamlit run app.py & npx localtunnel --port 8501"
      ]
    },
    {
      "cell_type": "code",
      "source": [
        "pip freeze>requirements.txt"
      ],
      "metadata": {
        "id": "O__ShAMvWBfC"
      },
      "execution_count": null,
      "outputs": []
    },
    {
      "cell_type": "markdown",
      "metadata": {
        "id": "YIMqL-t5ZyvP"
      },
      "source": [
        "### Congratulations you made it 🚀"
      ]
    }
  ],
  "metadata": {
    "colab": {
      "provenance": [],
      "include_colab_link": true
    },
    "kernelspec": {
      "display_name": "Python 3",
      "name": "python3"
    },
    "language_info": {
      "name": "python"
    },
    "widgets": {
      "application/vnd.jupyter.widget-state+json": {
        "69acc15d61424c75a53525b2e846363d": {
          "model_module": "@jupyter-widgets/controls",
          "model_name": "HBoxModel",
          "model_module_version": "1.5.0",
          "state": {
            "_dom_classes": [],
            "_model_module": "@jupyter-widgets/controls",
            "_model_module_version": "1.5.0",
            "_model_name": "HBoxModel",
            "_view_count": null,
            "_view_module": "@jupyter-widgets/controls",
            "_view_module_version": "1.5.0",
            "_view_name": "HBoxView",
            "box_style": "",
            "children": [
              "IPY_MODEL_43927fbd74454d3bafd514e591406b9b",
              "IPY_MODEL_c16b56a8e1e24782831bd63e026ccb19",
              "IPY_MODEL_09ce0220c90041f8b23f1aae30075bf8"
            ],
            "layout": "IPY_MODEL_c1cc21d698ee459682d6c62c7b0017a8"
          }
        },
        "43927fbd74454d3bafd514e591406b9b": {
          "model_module": "@jupyter-widgets/controls",
          "model_name": "HTMLModel",
          "model_module_version": "1.5.0",
          "state": {
            "_dom_classes": [],
            "_model_module": "@jupyter-widgets/controls",
            "_model_module_version": "1.5.0",
            "_model_name": "HTMLModel",
            "_view_count": null,
            "_view_module": "@jupyter-widgets/controls",
            "_view_module_version": "1.5.0",
            "_view_name": "HTMLView",
            "description": "",
            "description_tooltip": null,
            "layout": "IPY_MODEL_2e3814531c3847339c0f735cfbba37b7",
            "placeholder": "​",
            "style": "IPY_MODEL_86a4901ab838438bbf33d1a86b7c86d2",
            "value": "Done! Use &#x27;show&#x27; commands to display/save.   "
          }
        },
        "c16b56a8e1e24782831bd63e026ccb19": {
          "model_module": "@jupyter-widgets/controls",
          "model_name": "FloatProgressModel",
          "model_module_version": "1.5.0",
          "state": {
            "_dom_classes": [],
            "_model_module": "@jupyter-widgets/controls",
            "_model_module_version": "1.5.0",
            "_model_name": "FloatProgressModel",
            "_view_count": null,
            "_view_module": "@jupyter-widgets/controls",
            "_view_module_version": "1.5.0",
            "_view_name": "ProgressView",
            "bar_style": "success",
            "description": "",
            "description_tooltip": null,
            "layout": "IPY_MODEL_c1e11ff0765640a09bb327effa777274",
            "max": 1,
            "min": 0,
            "orientation": "horizontal",
            "style": "IPY_MODEL_560afc9555724f30bac8febfb3dcea32",
            "value": 1
          }
        },
        "09ce0220c90041f8b23f1aae30075bf8": {
          "model_module": "@jupyter-widgets/controls",
          "model_name": "HTMLModel",
          "model_module_version": "1.5.0",
          "state": {
            "_dom_classes": [],
            "_model_module": "@jupyter-widgets/controls",
            "_model_module_version": "1.5.0",
            "_model_name": "HTMLModel",
            "_view_count": null,
            "_view_module": "@jupyter-widgets/controls",
            "_view_module_version": "1.5.0",
            "_view_name": "HTMLView",
            "description": "",
            "description_tooltip": null,
            "layout": "IPY_MODEL_7afc78fe76df46d2a983efddf08d2ffe",
            "placeholder": "​",
            "style": "IPY_MODEL_00bc0c6fe8134ab69ade190c58a7de45",
            "value": " [100%]   00:01 -&gt; (00:00 left)"
          }
        },
        "c1cc21d698ee459682d6c62c7b0017a8": {
          "model_module": "@jupyter-widgets/base",
          "model_name": "LayoutModel",
          "model_module_version": "1.2.0",
          "state": {
            "_model_module": "@jupyter-widgets/base",
            "_model_module_version": "1.2.0",
            "_model_name": "LayoutModel",
            "_view_count": null,
            "_view_module": "@jupyter-widgets/base",
            "_view_module_version": "1.2.0",
            "_view_name": "LayoutView",
            "align_content": null,
            "align_items": null,
            "align_self": null,
            "border": null,
            "bottom": null,
            "display": "inline-flex",
            "flex": null,
            "flex_flow": "row wrap",
            "grid_area": null,
            "grid_auto_columns": null,
            "grid_auto_flow": null,
            "grid_auto_rows": null,
            "grid_column": null,
            "grid_gap": null,
            "grid_row": null,
            "grid_template_areas": null,
            "grid_template_columns": null,
            "grid_template_rows": null,
            "height": null,
            "justify_content": null,
            "justify_items": null,
            "left": null,
            "margin": null,
            "max_height": null,
            "max_width": null,
            "min_height": null,
            "min_width": null,
            "object_fit": null,
            "object_position": null,
            "order": null,
            "overflow": null,
            "overflow_x": null,
            "overflow_y": null,
            "padding": null,
            "right": null,
            "top": null,
            "visibility": null,
            "width": "100%"
          }
        },
        "2e3814531c3847339c0f735cfbba37b7": {
          "model_module": "@jupyter-widgets/base",
          "model_name": "LayoutModel",
          "model_module_version": "1.2.0",
          "state": {
            "_model_module": "@jupyter-widgets/base",
            "_model_module_version": "1.2.0",
            "_model_name": "LayoutModel",
            "_view_count": null,
            "_view_module": "@jupyter-widgets/base",
            "_view_module_version": "1.2.0",
            "_view_name": "LayoutView",
            "align_content": null,
            "align_items": null,
            "align_self": null,
            "border": null,
            "bottom": null,
            "display": null,
            "flex": null,
            "flex_flow": null,
            "grid_area": null,
            "grid_auto_columns": null,
            "grid_auto_flow": null,
            "grid_auto_rows": null,
            "grid_column": null,
            "grid_gap": null,
            "grid_row": null,
            "grid_template_areas": null,
            "grid_template_columns": null,
            "grid_template_rows": null,
            "height": null,
            "justify_content": null,
            "justify_items": null,
            "left": null,
            "margin": null,
            "max_height": null,
            "max_width": null,
            "min_height": null,
            "min_width": null,
            "object_fit": null,
            "object_position": null,
            "order": null,
            "overflow": null,
            "overflow_x": null,
            "overflow_y": null,
            "padding": null,
            "right": null,
            "top": null,
            "visibility": null,
            "width": null
          }
        },
        "86a4901ab838438bbf33d1a86b7c86d2": {
          "model_module": "@jupyter-widgets/controls",
          "model_name": "DescriptionStyleModel",
          "model_module_version": "1.5.0",
          "state": {
            "_model_module": "@jupyter-widgets/controls",
            "_model_module_version": "1.5.0",
            "_model_name": "DescriptionStyleModel",
            "_view_count": null,
            "_view_module": "@jupyter-widgets/base",
            "_view_module_version": "1.2.0",
            "_view_name": "StyleView",
            "description_width": ""
          }
        },
        "c1e11ff0765640a09bb327effa777274": {
          "model_module": "@jupyter-widgets/base",
          "model_name": "LayoutModel",
          "model_module_version": "1.2.0",
          "state": {
            "_model_module": "@jupyter-widgets/base",
            "_model_module_version": "1.2.0",
            "_model_name": "LayoutModel",
            "_view_count": null,
            "_view_module": "@jupyter-widgets/base",
            "_view_module_version": "1.2.0",
            "_view_name": "LayoutView",
            "align_content": null,
            "align_items": null,
            "align_self": null,
            "border": null,
            "bottom": null,
            "display": null,
            "flex": "2",
            "flex_flow": null,
            "grid_area": null,
            "grid_auto_columns": null,
            "grid_auto_flow": null,
            "grid_auto_rows": null,
            "grid_column": null,
            "grid_gap": null,
            "grid_row": null,
            "grid_template_areas": null,
            "grid_template_columns": null,
            "grid_template_rows": null,
            "height": null,
            "justify_content": null,
            "justify_items": null,
            "left": null,
            "margin": null,
            "max_height": null,
            "max_width": null,
            "min_height": null,
            "min_width": null,
            "object_fit": null,
            "object_position": null,
            "order": null,
            "overflow": null,
            "overflow_x": null,
            "overflow_y": null,
            "padding": null,
            "right": null,
            "top": null,
            "visibility": null,
            "width": null
          }
        },
        "560afc9555724f30bac8febfb3dcea32": {
          "model_module": "@jupyter-widgets/controls",
          "model_name": "ProgressStyleModel",
          "model_module_version": "1.5.0",
          "state": {
            "_model_module": "@jupyter-widgets/controls",
            "_model_module_version": "1.5.0",
            "_model_name": "ProgressStyleModel",
            "_view_count": null,
            "_view_module": "@jupyter-widgets/base",
            "_view_module_version": "1.2.0",
            "_view_name": "StyleView",
            "bar_color": null,
            "description_width": ""
          }
        },
        "7afc78fe76df46d2a983efddf08d2ffe": {
          "model_module": "@jupyter-widgets/base",
          "model_name": "LayoutModel",
          "model_module_version": "1.2.0",
          "state": {
            "_model_module": "@jupyter-widgets/base",
            "_model_module_version": "1.2.0",
            "_model_name": "LayoutModel",
            "_view_count": null,
            "_view_module": "@jupyter-widgets/base",
            "_view_module_version": "1.2.0",
            "_view_name": "LayoutView",
            "align_content": null,
            "align_items": null,
            "align_self": null,
            "border": null,
            "bottom": null,
            "display": null,
            "flex": null,
            "flex_flow": null,
            "grid_area": null,
            "grid_auto_columns": null,
            "grid_auto_flow": null,
            "grid_auto_rows": null,
            "grid_column": null,
            "grid_gap": null,
            "grid_row": null,
            "grid_template_areas": null,
            "grid_template_columns": null,
            "grid_template_rows": null,
            "height": null,
            "justify_content": null,
            "justify_items": null,
            "left": null,
            "margin": null,
            "max_height": null,
            "max_width": null,
            "min_height": null,
            "min_width": null,
            "object_fit": null,
            "object_position": null,
            "order": null,
            "overflow": null,
            "overflow_x": null,
            "overflow_y": null,
            "padding": null,
            "right": null,
            "top": null,
            "visibility": null,
            "width": null
          }
        },
        "00bc0c6fe8134ab69ade190c58a7de45": {
          "model_module": "@jupyter-widgets/controls",
          "model_name": "DescriptionStyleModel",
          "model_module_version": "1.5.0",
          "state": {
            "_model_module": "@jupyter-widgets/controls",
            "_model_module_version": "1.5.0",
            "_model_name": "DescriptionStyleModel",
            "_view_count": null,
            "_view_module": "@jupyter-widgets/base",
            "_view_module_version": "1.2.0",
            "_view_name": "StyleView",
            "description_width": ""
          }
        }
      }
    }
  },
  "nbformat": 4,
  "nbformat_minor": 0
}